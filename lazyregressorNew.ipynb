{
 "cells": [
  {
   "cell_type": "code",
   "execution_count": 2,
   "id": "d31e1969",
   "metadata": {},
   "outputs": [],
   "source": [
    "import uproot\n",
    "import lazypredict\n",
    "\n",
    "from lazypredict.Supervised import LazyRegressor\n",
    "from sklearn import datasets\n",
    "from sklearn.utils import shuffle\n",
    "import numpy as np\n",
    "import matplotlib.pyplot as plt\n",
    "%matplotlib inline\n",
    "\n",
    "file = uproot.open(\"pfClusters_tree_noPU_testing.root\")"
   ]
  },
  {
   "cell_type": "code",
   "execution_count": 3,
   "id": "6312c9e3",
   "metadata": {},
   "outputs": [],
   "source": [
    "events = file[\"een_analyzer/PfTree\"]\n"
   ]
  },
  {
   "cell_type": "code",
   "execution_count": 4,
   "id": "ae06b1e2",
   "metadata": {},
   "outputs": [
    {
     "name": "stdout",
     "output_type": "stream",
     "text": [
      "name                 | typename                 | interpretation                \n",
      "---------------------+--------------------------+-------------------------------\n",
      "nClus                | int32_t                  | AsDtype('>i4')\n",
      "clusrawE             | float                    | AsDtype('>f4')\n",
      "cluscorrE            | float                    | AsDtype('>f4')\n",
      "clusPt               | float                    | AsDtype('>f4')\n",
      "clusEta              | float                    | AsDtype('>f4')\n",
      "clusRho              | float                    | AsDtype('>f4')\n",
      "clusPhi              | float                    | AsDtype('>f4')\n",
      "clusLayer            | float                    | AsDtype('>f4')\n",
      "clusSize             | int32_t                  | AsDtype('>i4')\n",
      "clusIetaIx           | int32_t                  | AsDtype('>i4')\n",
      "clusIphiIy           | int32_t                  | AsDtype('>i4')\n",
      "clusPS1              | float                    | AsDtype('>f4')\n",
      "clusPS2              | float                    | AsDtype('>f4')\n",
      "clusFlag             | int32_t                  | AsDtype('>i4')\n",
      "rho                  | float                    | AsDtype('>f4')\n",
      "nvtx                 | int32_t                  | AsDtype('>i4')\n",
      "genEnergy            | float                    | AsDtype('>f4')\n",
      "genPt                | float                    | AsDtype('>f4')\n",
      "genEta               | float                    | AsDtype('>f4')\n",
      "genPhi               | float                    | AsDtype('>f4')\n",
      "genStatusFlag        | uint16_t                 | AsDtype('>u2')\n",
      "ietamod20            | int32_t                  | AsDtype('>i4')\n",
      "iphimod20            | int32_t                  | AsDtype('>i4')\n",
      "nhits                | int32_t                  | AsDtype('>i4')\n",
      "tgtvar               | float                    | AsDtype('>f4')\n",
      "nlgtgtvar            | float                    | AsDtype('>f4')\n",
      "weight               | double                   | AsDtype('>f8')\n",
      "nhits_mod            | int32_t                  | AsDtype('>i4')\n"
     ]
    }
   ],
   "source": [
    "events.show()"
   ]
  },
  {
   "cell_type": "code",
   "execution_count": 5,
   "id": "6110e510",
   "metadata": {},
   "outputs": [],
   "source": [
    "tgtvar = events.arrays(\"tgtvar\", library = \"pd\")\n",
    "tgtvar = tgtvar[:10000]\n",
    "\n",
    "\n",
    "\n",
    "clusrawE = events.arrays(\"clusrawE\", library = \"pd\")\n",
    "genEnergy = events.arrays(\"genEnergy\", library = \"pd\")\n",
    "tv = np.divide(clusrawE,genEnergy)\n",
    "\n",
    "tv = tv[:100]\n"
   ]
  },
  {
   "cell_type": "code",
   "execution_count": 6,
   "id": "132dbdc3",
   "metadata": {},
   "outputs": [],
   "source": [
    "regVarsEB = events.arrays([\"clusrawE\", \"clusIetaIx\", \"clusIphiIy\", \"ietamod20\", \"iphimod20\", \"nhits_mod\"], library = \"pd\")"
   ]
  },
  {
   "cell_type": "code",
   "execution_count": 7,
   "id": "2182fc1e",
   "metadata": {},
   "outputs": [
    {
     "data": {
      "text/plain": [
       "[<matplotlib.lines.Line2D at 0x113f9a15250>]"
      ]
     },
     "execution_count": 7,
     "metadata": {},
     "output_type": "execute_result"
    },
    {
     "data": {
      "image/png": "[encoded data removed]",
      "text/plain": [
       "<Figure size 640x480 with 1 Axes>"
      ]
     },
     "metadata": {},
     "output_type": "display_data"
    }
   ],
   "source": [
    "plt.plot(tgtvar)\n",
    "plt.plot(np.log(1/tv))"
   ]
  },
  {
   "cell_type": "code",
   "execution_count": 8,
   "id": "79540a1b",
   "metadata": {},
   "outputs": [
    {
     "data": {
      "text/html": [
       "<div>\n",
       "<style scoped>\n",
       "    .dataframe tbody tr th:only-of-type {\n",
       "        vertical-align: middle;\n",
       "    }\n",
       "\n",
       "    .dataframe tbody tr th {\n",
       "        vertical-align: top;\n",
       "    }\n",
       "\n",
       "    .dataframe thead th {\n",
       "        text-align: right;\n",
       "    }\n",
       "</style>\n",
       "<table border=\"1\" class=\"dataframe\">\n",
       "  <thead>\n",
       "    <tr style=\"text-align: right;\">\n",
       "      <th></th>\n",
       "      <th>clusrawE</th>\n",
       "    </tr>\n",
       "  </thead>\n",
       "  <tbody>\n",
       "    <tr>\n",
       "      <th>0</th>\n",
       "      <td>0.87</td>\n",
       "    </tr>\n",
       "    <tr>\n",
       "      <th>1</th>\n",
       "      <td>0.97</td>\n",
       "    </tr>\n",
       "    <tr>\n",
       "      <th>2</th>\n",
       "      <td>0.88</td>\n",
       "    </tr>\n",
       "    <tr>\n",
       "      <th>3</th>\n",
       "      <td>0.82</td>\n",
       "    </tr>\n",
       "    <tr>\n",
       "      <th>4</th>\n",
       "      <td>0.84</td>\n",
       "    </tr>\n",
       "    <tr>\n",
       "      <th>...</th>\n",
       "      <td>...</td>\n",
       "    </tr>\n",
       "    <tr>\n",
       "      <th>95</th>\n",
       "      <td>0.90</td>\n",
       "    </tr>\n",
       "    <tr>\n",
       "      <th>96</th>\n",
       "      <td>0.83</td>\n",
       "    </tr>\n",
       "    <tr>\n",
       "      <th>97</th>\n",
       "      <td>0.78</td>\n",
       "    </tr>\n",
       "    <tr>\n",
       "      <th>98</th>\n",
       "      <td>0.78</td>\n",
       "    </tr>\n",
       "    <tr>\n",
       "      <th>99</th>\n",
       "      <td>0.79</td>\n",
       "    </tr>\n",
       "  </tbody>\n",
       "</table>\n",
       "<p>100 rows × 1 columns</p>\n",
       "</div>"
      ],
      "text/plain": [
       "    clusrawE\n",
       "0       0.87\n",
       "1       0.97\n",
       "2       0.88\n",
       "3       0.82\n",
       "4       0.84\n",
       "..       ...\n",
       "95      0.90\n",
       "96      0.83\n",
       "97      0.78\n",
       "98      0.78\n",
       "99      0.79\n",
       "\n",
       "[100 rows x 1 columns]"
      ]
     },
     "execution_count": 8,
     "metadata": {},
     "output_type": "execute_result"
    }
   ],
   "source": [
    "tv"
   ]
  },
  {
   "cell_type": "code",
   "execution_count": 9,
   "id": "3a1b130c",
   "metadata": {},
   "outputs": [],
   "source": [
    "regVarsEB = regVarsEB[:10000]\n",
    "tgtvar = tgtvar[:10000]"
   ]
  },
  {
   "cell_type": "code",
   "execution_count": 10,
   "id": "fabc13f7",
   "metadata": {},
   "outputs": [
    {
     "data": {
      "text/html": [
       "<div>\n",
       "<style scoped>\n",
       "    .dataframe tbody tr th:only-of-type {\n",
       "        vertical-align: middle;\n",
       "    }\n",
       "\n",
       "    .dataframe tbody tr th {\n",
       "        vertical-align: top;\n",
       "    }\n",
       "\n",
       "    .dataframe thead th {\n",
       "        text-align: right;\n",
       "    }\n",
       "</style>\n",
       "<table border=\"1\" class=\"dataframe\">\n",
       "  <thead>\n",
       "    <tr style=\"text-align: right;\">\n",
       "      <th></th>\n",
       "      <th>clusrawE</th>\n",
       "      <th>clusIetaIx</th>\n",
       "      <th>clusIphiIy</th>\n",
       "      <th>ietamod20</th>\n",
       "      <th>iphimod20</th>\n",
       "      <th>nhits_mod</th>\n",
       "    </tr>\n",
       "  </thead>\n",
       "  <tbody>\n",
       "    <tr>\n",
       "      <th>0</th>\n",
       "      <td>4.53</td>\n",
       "      <td>14</td>\n",
       "      <td>200</td>\n",
       "      <td>13</td>\n",
       "      <td>19</td>\n",
       "      <td>0</td>\n",
       "    </tr>\n",
       "    <tr>\n",
       "      <th>1</th>\n",
       "      <td>11.94</td>\n",
       "      <td>74</td>\n",
       "      <td>8</td>\n",
       "      <td>8</td>\n",
       "      <td>7</td>\n",
       "      <td>0</td>\n",
       "    </tr>\n",
       "    <tr>\n",
       "      <th>2</th>\n",
       "      <td>10.81</td>\n",
       "      <td>27</td>\n",
       "      <td>93</td>\n",
       "      <td>1</td>\n",
       "      <td>12</td>\n",
       "      <td>0</td>\n",
       "    </tr>\n",
       "    <tr>\n",
       "      <th>3</th>\n",
       "      <td>3.18</td>\n",
       "      <td>72</td>\n",
       "      <td>206</td>\n",
       "      <td>6</td>\n",
       "      <td>5</td>\n",
       "      <td>0</td>\n",
       "    </tr>\n",
       "    <tr>\n",
       "      <th>4</th>\n",
       "      <td>3.24</td>\n",
       "      <td>-71</td>\n",
       "      <td>26</td>\n",
       "      <td>-5</td>\n",
       "      <td>5</td>\n",
       "      <td>0</td>\n",
       "    </tr>\n",
       "    <tr>\n",
       "      <th>...</th>\n",
       "      <td>...</td>\n",
       "      <td>...</td>\n",
       "      <td>...</td>\n",
       "      <td>...</td>\n",
       "      <td>...</td>\n",
       "      <td>...</td>\n",
       "    </tr>\n",
       "    <tr>\n",
       "      <th>9995</th>\n",
       "      <td>19.76</td>\n",
       "      <td>83</td>\n",
       "      <td>188</td>\n",
       "      <td>17</td>\n",
       "      <td>7</td>\n",
       "      <td>3</td>\n",
       "    </tr>\n",
       "    <tr>\n",
       "      <th>9996</th>\n",
       "      <td>55.67</td>\n",
       "      <td>59</td>\n",
       "      <td>41</td>\n",
       "      <td>13</td>\n",
       "      <td>0</td>\n",
       "      <td>0</td>\n",
       "    </tr>\n",
       "    <tr>\n",
       "      <th>9997</th>\n",
       "      <td>8.79</td>\n",
       "      <td>-30</td>\n",
       "      <td>157</td>\n",
       "      <td>-4</td>\n",
       "      <td>16</td>\n",
       "      <td>0</td>\n",
       "    </tr>\n",
       "    <tr>\n",
       "      <th>9998</th>\n",
       "      <td>8.72</td>\n",
       "      <td>28</td>\n",
       "      <td>336</td>\n",
       "      <td>2</td>\n",
       "      <td>15</td>\n",
       "      <td>0</td>\n",
       "    </tr>\n",
       "    <tr>\n",
       "      <th>9999</th>\n",
       "      <td>2.41</td>\n",
       "      <td>-23</td>\n",
       "      <td>153</td>\n",
       "      <td>-22</td>\n",
       "      <td>12</td>\n",
       "      <td>0</td>\n",
       "    </tr>\n",
       "  </tbody>\n",
       "</table>\n",
       "<p>10000 rows × 6 columns</p>\n",
       "</div>"
      ],
      "text/plain": [
       "      clusrawE  clusIetaIx  clusIphiIy  ietamod20  iphimod20  nhits_mod\n",
       "0         4.53          14         200         13         19          0\n",
       "1        11.94          74           8          8          7          0\n",
       "2        10.81          27          93          1         12          0\n",
       "3         3.18          72         206          6          5          0\n",
       "4         3.24         -71          26         -5          5          0\n",
       "...        ...         ...         ...        ...        ...        ...\n",
       "9995     19.76          83         188         17          7          3\n",
       "9996     55.67          59          41         13          0          0\n",
       "9997      8.79         -30         157         -4         16          0\n",
       "9998      8.72          28         336          2         15          0\n",
       "9999      2.41         -23         153        -22         12          0\n",
       "\n",
       "[10000 rows x 6 columns]"
      ]
     },
     "execution_count": 10,
     "metadata": {},
     "output_type": "execute_result"
    }
   ],
   "source": [
    "regVarsEB"
   ]
  },
  {
   "cell_type": "code",
   "execution_count": null,
   "id": "e94f3162",
   "metadata": {},
   "outputs": [
    {
     "name": "stderr",
     "output_type": "stream",
     "text": [
      " 19%|███████████████▊                                                                   | 8/42 [00:03<00:07,  4.52it/s]"
     ]
    },
    {
     "name": "stdout",
     "output_type": "stream",
     "text": [
      "ElasticNetCV model failed to execute\n",
      "Gram matrix passed in via 'precompute' parameter did not pass validation when a single element was checked - please check that it was computed properly. For element (3,4) we computed 91.17805480957031 but the user-supplied value was 91.17810821533203.\n"
     ]
    },
    {
     "name": "stderr",
     "output_type": "stream",
     "text": [
      "\r",
      " 21%|█████████████████▊                                                                 | 9/42 [00:10<01:12,  2.18s/it]"
     ]
    },
    {
     "name": "stdout",
     "output_type": "stream",
     "text": [
      "GammaRegressor model failed to execute\n",
      "Some value(s) of y are out of the valid range for family GammaDistribution\n"
     ]
    },
    {
     "name": "stderr",
     "output_type": "stream",
     "text": [
      " 48%|███████████████████████████████████████                                           | 20/42 [02:39<01:32,  4.21s/it]"
     ]
    },
    {
     "name": "stdout",
     "output_type": "stream",
     "text": [
      "LassoCV model failed to execute\n",
      "Gram matrix passed in via 'precompute' parameter did not pass validation when a single element was checked - please check that it was computed properly. For element (3,4) we computed 91.17805480957031 but the user-supplied value was 91.17810821533203.\n"
     ]
    },
    {
     "name": "stderr",
     "output_type": "stream",
     "text": [
      " 71%|██████████████████████████████████████████████████████████▌                       | 30/42 [03:11<00:36,  3.04s/it]"
     ]
    },
    {
     "name": "stdout",
     "output_type": "stream",
     "text": [
      "PoissonRegressor model failed to execute\n",
      "Some value(s) of y are out of the valid range for family PoissonDistribution\n"
     ]
    }
   ],
   "source": [
    "X = regVarsEB\n",
    "y = tgtvar\n",
    "X = X.astype(np.float32)\n",
    "\n",
    "offset = int(X.shape[0] * 0.9)\n",
    "\n",
    "X_train, y_train = X[:offset], y[:offset]\n",
    "X_test, y_test = X[offset:], y[offset:]\n",
    "\n",
    "reg = LazyRegressor(verbose=0, ignore_warnings=False, custom_metric=None)\n",
    "models, predictions = reg.fit(X_train, X_test, y_train, y_test)\n",
    "\n",
    "print(models)"
   ]
  },
  {
   "cell_type": "code",
   "execution_count": null,
   "id": "03e2bc45",
   "metadata": {},
   "outputs": [],
   "source": []
  }
 ],
 "metadata": {
  "kernelspec": {
   "display_name": "Python 3 (ipykernel)",
   "language": "python",
   "name": "python3"
  },
  "language_info": {
   "codemirror_mode": {
    "name": "ipython",
    "version": 3
   },
   "file_extension": ".py",
   "mimetype": "text/x-python",
   "name": "python",
   "nbconvert_exporter": "python",
   "pygments_lexer": "ipython3",
   "version": "3.9.13"
  }
 },
 "nbformat": 4,
 "nbformat_minor": 5
}
